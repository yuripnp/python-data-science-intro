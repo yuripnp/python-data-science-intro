{
 "cells": [
  {
   "cell_type": "code",
   "execution_count": null,
   "metadata": {},
   "outputs": [],
   "source": [
    "f1 = True\n",
    "f2 = False\n",
    "f3 = 'Iuri'\n",
    "\n",
    "if f1 and f2:\n",
    "    print('verdadeiro')\n",
    "else:\n",
    "    print('falso')\n",
    "\n",
    "\n",
    "if f1 or f2:\n",
    "    print('verdadeiro')\n",
    "else:\n",
    "    print('falso')\n",
    "\n",
    "\n",
    "if not f1:\n",
    "    print('verdadeiro')\n",
    "else:\n",
    "    print('falso')\n",
    "\n",
    "if f3 in ['Iuri', 'Yuri', 'yuri']:\n",
    "    print('verdadeiro')\n",
    "else:\n",
    "    print('falso')\n",
    "\n",
    "\n",
    "\n"
   ]
  },
  {
   "cell_type": "code",
   "execution_count": 6,
   "metadata": {},
   "outputs": [
    {
     "name": "stdout",
     "output_type": "stream",
     "text": [
      "valor1\n",
      "chave1\n",
      "chave2\n",
      "valor1\n",
      "valor3\n",
      "chave1 - valor1\n",
      "chave2 - valor3\n"
     ]
    }
   ],
   "source": [
    "chaves = {'chave1': 'valor1', 'chave2': 'valor2', 'chave2': 'valor3'}\n",
    "print(chaves['chave1'])\n",
    "\n",
    "for chave in chaves.keys():\n",
    "    print(chave)\n",
    "\n",
    "for valor in chaves.values():\n",
    "    print(valor)\n",
    "\n",
    "for chave, valor in chaves.items():\n",
    "    print(f'{chave} - {valor}')\n",
    "\n",
    "\n",
    "\n",
    "\n",
    "\n",
    "\n",
    "\n",
    "\n",
    "\n",
    "\n",
    "\n"
   ]
  }
 ],
 "metadata": {
  "kernelspec": {
   "display_name": "Python 3",
   "language": "python",
   "name": "python3"
  },
  "language_info": {
   "codemirror_mode": {
    "name": "ipython",
    "version": 3
   },
   "file_extension": ".py",
   "mimetype": "text/x-python",
   "name": "python",
   "nbconvert_exporter": "python",
   "pygments_lexer": "ipython3",
   "version": "3.8.10"
  }
 },
 "nbformat": 4,
 "nbformat_minor": 2
}
