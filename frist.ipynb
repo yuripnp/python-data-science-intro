{
 "cells": [
  {
   "cell_type": "code",
   "execution_count": 1,
   "metadata": {},
   "outputs": [
    {
     "name": "stdout",
     "output_type": "stream",
     "text": [
      "Olá mundo\n"
     ]
    }
   ],
   "source": [
    "print(\"Olá mundo\")"
   ]
  },
  {
   "cell_type": "code",
   "execution_count": 2,
   "metadata": {},
   "outputs": [
    {
     "name": "stdout",
     "output_type": "stream",
     "text": [
      "Nome:  Yuri Idade:  32\n"
     ]
    }
   ],
   "source": [
    "nome = input(\"Digite seu nome: \")\n",
    "idade = input(\"Digite sua idade: \")\n",
    "print(\"Nome: \", nome, \"Idade: \", idade)\n"
   ]
  },
  {
   "cell_type": "markdown",
   "metadata": {},
   "source": [
    "| Cargos     | Quantidade | Salario      |\n",
    "|------------|------------|--------------|\n",
    "| Seguranças | 5          | 3.000,00     |\n",
    "| Operadores | 18         | 5.000,00     |\n",
    "| Diretores  | 1          | 12.000,00    |\n",
    "\n",
    "- Mostre a quantidade de funcionarios\n",
    "- Mostre o total de gastos na empresa\n",
    "- descrimine quanto cada setor custa com mão de obra\n"
   ]
  },
  {
   "cell_type": "code",
   "execution_count": 1,
   "metadata": {},
   "outputs": [
    {
     "name": "stdout",
     "output_type": "stream",
     "text": [
      "24\n"
     ]
    }
   ],
   "source": [
    "q_seguranças = 5\n",
    "q_operadores = 18\n",
    "q_diretores = 1\n",
    "\n",
    "total_funcionarios = q_seguranças + q_operadores + q_diretores\n",
    "print(total_funcionarios)\n"
   ]
  },
  {
   "cell_type": "code",
   "execution_count": 2,
   "metadata": {},
   "outputs": [
    {
     "name": "stdout",
     "output_type": "stream",
     "text": [
      "117000\n"
     ]
    }
   ],
   "source": [
    "salario_seguranças = 3000\n",
    "salario_operadores = 5000\n",
    "salario_diretores = 12000\n",
    "\n",
    "total_salarios = salario_seguranças * q_seguranças + salario_operadores * q_operadores + salario_diretores * q_diretores\n",
    "print(total_salarios)\n"
   ]
  },
  {
   "cell_type": "code",
   "execution_count": 3,
   "metadata": {},
   "outputs": [
    {
     "name": "stdout",
     "output_type": "stream",
     "text": [
      "\n",
      "gastos com seguranças: 15000\n",
      "gastos com operadores: 90000\n",
      "gastos com diretores: 12000\n",
      "\n"
     ]
    }
   ],
   "source": [
    "print(f\"\"\"\n",
    "gastos com seguranças: {salario_seguranças * q_seguranças}\n",
    "gastos com operadores: {salario_operadores * q_operadores}\n",
    "gastos com diretores: {salario_diretores * q_diretores}\n",
    "\"\"\")"
   ]
  },
  {
   "cell_type": "markdown",
   "metadata": {},
   "source": [
    "'     Olá, sou o yuri pimentel,   sou um analista de software generalista. Isso que dizer que, posso ajudar sua empresa em diversas frentes, colocando uma visão mais ampla em regras de negocio          '.\n",
    "- tire os espaços sobrando dessa frase\n",
    "- coloque o nome em maiusculo\n",
    "- crie uma lista para cada frase\n"
   ]
  },
  {
   "cell_type": "code",
   "execution_count": 3,
   "metadata": {},
   "outputs": [
    {
     "name": "stdout",
     "output_type": "stream",
     "text": [
      "Olá, sou o yuri pimentel,   sou um analista de software generalista. Isso que dizer que, posso ajudar sua empresa em diversas frentes, colocando uma visão mais ampla em regras de negocio\n",
      "OLÁ, SOU O YURI PIMENTEL,   SOU UM ANALISTA DE SOFTWARE GENERALISTA. ISSO QUE DIZER QUE, POSSO AJUDAR SUA EMPRESA EM DIVERSAS FRENTES, COLOCANDO UMA VISÃO MAIS AMPLA EM REGRAS DE NEGOCIO\n",
      "['OLÁ,', 'SOU', 'O', 'YURI', 'PIMENTEL,', 'SOU', 'UM', 'ANALISTA', 'DE', 'SOFTWARE', 'GENERALISTA.', 'ISSO', 'QUE', 'DIZER', 'QUE,', 'POSSO', 'AJUDAR', 'SUA', 'EMPRESA', 'EM', 'DIVERSAS', 'FRENTES,', 'COLOCANDO', 'UMA', 'VISÃO', 'MAIS', 'AMPLA', 'EM', 'REGRAS', 'DE', 'NEGOCIO']\n",
      "OLÁ, SOU O Iuri PIMENTEL,   SOU UM ANALISTA DE SOFTWARE GENERALISTA. ISSO QUE DIZER QUE, POSSO AJUDAR SUA EMPRESA EM DIVERSAS FRENTES, COLOCANDO UMA VISÃO MAIS AMPLA EM REGRAS DE NEGOCIO\n"
     ]
    }
   ],
   "source": [
    "texto = '     Olá, sou o yuri pimentel,   sou um analista de software generalista. Isso que dizer que, posso ajudar sua empresa em diversas frentes, colocando uma visão mais ampla em regras de negocio          '\n",
    "# tire os espaços sobrando dessa frase\n",
    "texto = texto.strip()\n",
    "print(texto)\n",
    "# coloque o nome em maiusculo\n",
    "texto = texto.upper()\n",
    "print(texto)\n",
    "# crie uma lista para cada frase\n",
    "lista_frase = texto.split()\n",
    "print(lista_frase)\n",
    "# substitua o nome yuri por Iuri\n",
    "texto = texto.replace('YURI', 'Iuri')\n",
    "print(texto)\n",
    "\n",
    "\n",
    "\n",
    "\n",
    "\n",
    "\n",
    "\n"
   ]
  },
  {
   "cell_type": "markdown",
   "metadata": {},
   "source": []
  }
 ],
 "metadata": {
  "kernelspec": {
   "display_name": "Python 3",
   "language": "python",
   "name": "python3"
  },
  "language_info": {
   "codemirror_mode": {
    "name": "ipython",
    "version": 3
   },
   "file_extension": ".py",
   "mimetype": "text/x-python",
   "name": "python",
   "nbconvert_exporter": "python",
   "pygments_lexer": "ipython3",
   "version": "3.8.10"
  }
 },
 "nbformat": 4,
 "nbformat_minor": 2
}
